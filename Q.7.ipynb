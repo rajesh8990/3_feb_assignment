{
 "cells": [
  {
   "cell_type": "code",
   "execution_count": 2,
   "id": "613a151b-04cf-4f4b-a1ad-a566562a55f4",
   "metadata": {},
   "outputs": [
    {
     "name": "stdout",
     "output_type": "stream",
     "text": [
      "['p', 'w', 's', 'k', 'i', 'l', 'l', 's']\n"
     ]
    }
   ],
   "source": [
    "\"\"\"\n",
    "Q.7 Q7. Write a List Comprehension to iterate through the given string: ‘pwskills’.\n",
    "\"\"\"\n",
    "\n",
    "list=[]\n",
    "str=\"pwskills\"\n",
    "for i in str:\n",
    "    list.append(i)\n",
    "print(list)"
   ]
  },
  {
   "cell_type": "code",
   "execution_count": null,
   "id": "75b5b694-ff1e-48ad-9210-88da464464b5",
   "metadata": {},
   "outputs": [],
   "source": []
  }
 ],
 "metadata": {
  "kernelspec": {
   "display_name": "Python 3 (ipykernel)",
   "language": "python",
   "name": "python3"
  },
  "language_info": {
   "codemirror_mode": {
    "name": "ipython",
    "version": 3
   },
   "file_extension": ".py",
   "mimetype": "text/x-python",
   "name": "python",
   "nbconvert_exporter": "python",
   "pygments_lexer": "ipython3",
   "version": "3.10.8"
  }
 },
 "nbformat": 4,
 "nbformat_minor": 5
}
