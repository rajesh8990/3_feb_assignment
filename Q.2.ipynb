{
 "cells": [
  {
   "cell_type": "code",
   "execution_count": 5,
   "id": "f931e9e3-3688-4cab-85d2-7f03ce1e462a",
   "metadata": {},
   "outputs": [
    {
     "name": "stdout",
     "output_type": "stream",
     "text": [
      "6\n",
      "120\n"
     ]
    }
   ],
   "source": [
    "\"\"\"\n",
    "Q.2 Why *args and **kwargs is used in some functions? \n",
    "    Create a function each for *args and **kwargs to demonstrate their use\n",
    "    \n",
    "Ans. *args and **kwargs are used in Python to handle variable numbers of arguments in functions.\n",
    "\n",
    "     *args- In python is  used to handle an arbitary number of Positional argument in a function\n",
    "     \n",
    "     **kwargs- Allow a function to accept any nomber  of keyword argumentk. It is collect\n",
    "               these argument in to a dicitioary within the function.\n",
    " \"\"\"\n",
    "# Example using *args\n",
    "def args_number(*args):\n",
    "    result=1\n",
    "    for i in args:\n",
    "        result=result*i\n",
    "    return result\n",
    "a=args_number(2,3)# using the function the diffrent number of argument\n",
    "b=args_number(1,2,3,4,5)\n",
    "print(a)\n",
    "print(b)\n"
   ]
  },
  {
   "cell_type": "code",
   "execution_count": 13,
   "id": "5d8ee6e3-04ca-45fb-af2a-037a7f6d8fe5",
   "metadata": {},
   "outputs": [
    {
     "name": "stdout",
     "output_type": "stream",
     "text": [
      "name :rajesh\n",
      "age :30\n",
      "Name :pintu\n",
      "Age :35\n",
      "village :Godhuwa\n",
      "post :Nibhapur\n"
     ]
    }
   ],
   "source": [
    "# Example Using **kwargs \n",
    "def kwargs_number(**kwargs):\n",
    "    \n",
    "    for key,value in kwargs.items():\n",
    "        print(f\"{key} :{value}\")\n",
    "        \n",
    "kwargs_number(name=\"rajesh\",age=30)\n",
    "kwargs_number(Name=\"pintu\",Age=35,village=\"Godhuwa\",post=\"Nibhapur\")\n",
    "\n",
    "        "
   ]
  },
  {
   "cell_type": "code",
   "execution_count": null,
   "id": "4bd4ef44-c0a8-4820-98a4-062e9f0e7e84",
   "metadata": {},
   "outputs": [],
   "source": []
  }
 ],
 "metadata": {
  "kernelspec": {
   "display_name": "Python 3 (ipykernel)",
   "language": "python",
   "name": "python3"
  },
  "language_info": {
   "codemirror_mode": {
    "name": "ipython",
    "version": 3
   },
   "file_extension": ".py",
   "mimetype": "text/x-python",
   "name": "python",
   "nbconvert_exporter": "python",
   "pygments_lexer": "ipython3",
   "version": "3.10.8"
  }
 },
 "nbformat": 4,
 "nbformat_minor": 5
}
