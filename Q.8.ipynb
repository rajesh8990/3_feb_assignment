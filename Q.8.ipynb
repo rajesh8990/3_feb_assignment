{
 "cells": [
  {
   "cell_type": "code",
   "execution_count": 2,
   "id": "84930de8-4b10-464f-ab42-cc454566596c",
   "metadata": {},
   "outputs": [
    {
     "name": "stdin",
     "output_type": "stream",
     "text": [
      "enter number  123\n"
     ]
    },
    {
     "name": "stdout",
     "output_type": "stream",
     "text": [
      "Not palindrome number: \n"
     ]
    }
   ],
   "source": [
    "\"\"\"\n",
    "Q8. Write a python program to check whether a given number is Palindrome or not\n",
    "    using a while loop.  \"\"\"\n",
    "\n",
    "# Get Number\n",
    "num=int(input(\"enter number \"))\n",
    "p=num\n",
    "rev=0\n",
    "a=0\n",
    "\n",
    "while  num>0:\n",
    "    a=num%10\n",
    "    rev=rev*10+a\n",
    "    num=num//10\n",
    "if p==rev:\n",
    "    print(\"palindrome nomber:\")\n",
    "else:\n",
    "    \n",
    "    print(\"Not palindrome number: \")"
   ]
  },
  {
   "cell_type": "code",
   "execution_count": null,
   "id": "29515431-8ea7-4cf0-8292-862893a6bc32",
   "metadata": {},
   "outputs": [],
   "source": []
  }
 ],
 "metadata": {
  "kernelspec": {
   "display_name": "Python 3 (ipykernel)",
   "language": "python",
   "name": "python3"
  },
  "language_info": {
   "codemirror_mode": {
    "name": "ipython",
    "version": 3
   },
   "file_extension": ".py",
   "mimetype": "text/x-python",
   "name": "python",
   "nbconvert_exporter": "python",
   "pygments_lexer": "ipython3",
   "version": "3.10.8"
  }
 },
 "nbformat": 4,
 "nbformat_minor": 5
}
