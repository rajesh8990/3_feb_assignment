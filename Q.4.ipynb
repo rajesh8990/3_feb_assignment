{
 "cells": [
  {
   "cell_type": "code",
   "execution_count": 13,
   "id": "fda3b9e6-8e97-44b7-94ad-93329d64a14c",
   "metadata": {},
   "outputs": [
    {
     "name": "stdout",
     "output_type": "stream",
     "text": [
      "0,1,2,3,4,"
     ]
    }
   ],
   "source": [
    "\"\"\"\n",
    "Q.4  What is a generator function in python? Why yield keyword is used? \n",
    "     Give an example of a generator function\n",
    "     \n",
    "Ans. In Python, a generator function is a special type of function \n",
    "    Instead of returning a single value a generator function yields \n",
    "    a series of values using the yield keyword. \n",
    "\"\"\"\n",
    "\n",
    "# Example Generator function\n",
    "def number_sequence(n):\n",
    "    num = 0\n",
    "    while num < n:\n",
    "        yield num\n",
    "\n",
    "        num += 1\n",
    "\n",
    "# Using the generator function to create a generator object\n",
    "gen = number_sequence(5)\n",
    "\n",
    "# Iterating through the generator to retrieve values\n",
    "for i in gen:\n",
    "    print(i,end=\",\")\n"
   ]
  },
  {
   "cell_type": "code",
   "execution_count": null,
   "id": "4777c458-b8ce-4105-88c6-7f2375206f6a",
   "metadata": {},
   "outputs": [],
   "source": []
  }
 ],
 "metadata": {
  "kernelspec": {
   "display_name": "Python 3 (ipykernel)",
   "language": "python",
   "name": "python3"
  },
  "language_info": {
   "codemirror_mode": {
    "name": "ipython",
    "version": 3
   },
   "file_extension": ".py",
   "mimetype": "text/x-python",
   "name": "python",
   "nbconvert_exporter": "python",
   "pygments_lexer": "ipython3",
   "version": "3.10.8"
  }
 },
 "nbformat": 4,
 "nbformat_minor": 5
}
