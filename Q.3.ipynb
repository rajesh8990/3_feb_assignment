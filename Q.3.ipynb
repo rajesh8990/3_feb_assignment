{
 "cells": [
  {
   "cell_type": "code",
   "execution_count": 3,
   "id": "8a09d186-8ac8-4a29-b341-6bac14c49d97",
   "metadata": {},
   "outputs": [
    {
     "name": "stdout",
     "output_type": "stream",
     "text": [
      "2,4,6,8,10,"
     ]
    }
   ],
   "source": [
    "\"\"\"\n",
    "Q.3  What is an iterator in python? Name the method used to initialise\n",
    "    the iterator object and the method used for iteration. Use these methods to print\n",
    "    the first five elements of the given list [2, 4, 6, 8, 10, 12, 14,16, 18, 20].\n",
    "\n",
    "Ans. Iterator- An iterator in python is an object it allow Sequential access to \n",
    "     element in a  collection without needing to know the underlying structure\n",
    "     of that collection .\n",
    "     \n",
    "     To initialize an iterator object for a list, you can use the iter() method,\n",
    "     and for iteration, you can use the next() method\n",
    "\"\"\"     \n",
    "\n",
    "my_list=[2, 4, 6, 8, 10, 12, 14,16, 18, 20]\n",
    "itr=iter(my_list)\n",
    "for i in my_list[:5]:\n",
    "    print(next(itr),end=\",\")"
   ]
  },
  {
   "cell_type": "code",
   "execution_count": null,
   "id": "d0624075-c8c4-4d59-aae9-548339c4f323",
   "metadata": {},
   "outputs": [],
   "source": []
  }
 ],
 "metadata": {
  "kernelspec": {
   "display_name": "Python 3 (ipykernel)",
   "language": "python",
   "name": "python3"
  },
  "language_info": {
   "codemirror_mode": {
    "name": "ipython",
    "version": 3
   },
   "file_extension": ".py",
   "mimetype": "text/x-python",
   "name": "python",
   "nbconvert_exporter": "python",
   "pygments_lexer": "ipython3",
   "version": "3.10.8"
  }
 },
 "nbformat": 4,
 "nbformat_minor": 5
}
