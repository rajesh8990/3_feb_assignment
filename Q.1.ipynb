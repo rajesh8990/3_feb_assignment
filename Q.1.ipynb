{
 "cells": [
  {
   "cell_type": "code",
   "execution_count": 4,
   "id": "88527105-971b-409c-99ec-a7529dc0b3af",
   "metadata": {},
   "outputs": [
    {
     "name": "stdout",
     "output_type": "stream",
     "text": [
      "[1, 3, 5, 7, 9, 11, 13, 15, 17, 19, 21, 23, 25]\n"
     ]
    }
   ],
   "source": [
    "\"\"\"\n",
    "Q.1 Which keyword is used to create a function? Create a function to return\n",
    "    a list of odd numbers in the range of 1 to 25.\n",
    "                                                                            \n",
    "\n",
    "Ans.  In Python, the keyword used to create a function is def.\"\"\"\n",
    "\n",
    "def odd_numbers():\n",
    "    list=[]\n",
    "    for i in range(1,26):\n",
    "        if i%2!=0:\n",
    "            list.append(i)\n",
    "    return list\n",
    "result=odd_numbers() # call the function\n",
    "print(result)\n",
    "\n"
   ]
  },
  {
   "cell_type": "code",
   "execution_count": null,
   "id": "632d72b6-8748-4d27-9b07-64077a177978",
   "metadata": {},
   "outputs": [],
   "source": []
  }
 ],
 "metadata": {
  "kernelspec": {
   "display_name": "Python 3 (ipykernel)",
   "language": "python",
   "name": "python3"
  },
  "language_info": {
   "codemirror_mode": {
    "name": "ipython",
    "version": 3
   },
   "file_extension": ".py",
   "mimetype": "text/x-python",
   "name": "python",
   "nbconvert_exporter": "python",
   "pygments_lexer": "ipython3",
   "version": "3.10.8"
  }
 },
 "nbformat": 4,
 "nbformat_minor": 5
}
