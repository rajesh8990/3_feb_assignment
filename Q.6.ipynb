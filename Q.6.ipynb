{
 "cells": [
  {
   "cell_type": "code",
   "execution_count": 4,
   "id": "6e26f04d-a256-4bef-bde9-6a53e2dfb763",
   "metadata": {},
   "outputs": [
    {
     "name": "stdout",
     "output_type": "stream",
     "text": [
      "0,1,1,2,3,5,8,"
     ]
    }
   ],
   "source": [
    "\"\"\"\n",
    "Q.6 Write a python program to print the first 10 Fibonacci numbers using a while loop.\n",
    "\"\"\"\n",
    "\n",
    "x=0\n",
    "y=1\n",
    "z=0\n",
    "while(z<=10):\n",
    "    print(z,end=\",\")\n",
    "    x=y\n",
    "    y=z\n",
    "    z=x+y\n",
    "    "
   ]
  },
  {
   "cell_type": "code",
   "execution_count": null,
   "id": "9627eaa0-59ed-46a1-9f15-c72f2e4f72cc",
   "metadata": {},
   "outputs": [],
   "source": []
  }
 ],
 "metadata": {
  "kernelspec": {
   "display_name": "Python 3 (ipykernel)",
   "language": "python",
   "name": "python3"
  },
  "language_info": {
   "codemirror_mode": {
    "name": "ipython",
    "version": 3
   },
   "file_extension": ".py",
   "mimetype": "text/x-python",
   "name": "python",
   "nbconvert_exporter": "python",
   "pygments_lexer": "ipython3",
   "version": "3.10.8"
  }
 },
 "nbformat": 4,
 "nbformat_minor": 5
}
